{
  "nbformat": 4,
  "nbformat_minor": 0,
  "metadata": {
    "colab": {
      "name": "ReproductionOfBatchNormalization.ipynb",
      "provenance": [],
      "toc_visible": true,
      "authorship_tag": "ABX9TyM2De9/gA/S2FOsYf8ZjNFx",
      "include_colab_link": true
    },
    "kernelspec": {
      "name": "python3",
      "display_name": "Python 3"
    },
    "accelerator": "GPU"
  },
  "cells": [
    {
      "cell_type": "markdown",
      "metadata": {
        "id": "view-in-github",
        "colab_type": "text"
      },
      "source": [
        "<a href=\"https://colab.research.google.com/github/byildiz/ReplicationOfBatchNormalization/blob/master/ReproductionOfBatchNormalization.ipynb\" target=\"_parent\"><img src=\"https://colab.research.google.com/assets/colab-badge.svg\" alt=\"Open In Colab\"/></a>"
      ]
    },
    {
      "cell_type": "markdown",
      "metadata": {
        "id": "aBT5dyCVLwKX",
        "colab_type": "text"
      },
      "source": [
        "# Replication of Batch Normalization\n",
        "\n",
        "In this notebook, some of the results of the original Batch Normalization[1] [paper](https://arxiv.org/pdf/1502.03167.pdf) is replicated in PyTorch.\n",
        "\n",
        "[1] Ioffe, Sergey, and Christian Szegedy. \"Batch normalization: Accelerating deep network training by reducing internal covariate shift.\" arXiv preprint arXiv:1502.03167 (2015)."
      ]
    },
    {
      "cell_type": "markdown",
      "metadata": {
        "id": "CqAetWgFNEGm",
        "colab_type": "text"
      },
      "source": [
        "## Settings"
      ]
    },
    {
      "cell_type": "code",
      "metadata": {
        "id": "tD15FCmg1trJ",
        "colab_type": "code",
        "colab": {}
      },
      "source": [
        "import torch\n",
        "import torch.nn as nn\n",
        "import torch.nn.functional as F\n",
        "import torch.optim as optim\n",
        "import torchvision.transforms as T\n",
        "from torchvision import datasets\n",
        "from torchsummary import summary\n",
        "import matplotlib.pyplot as plt"
      ],
      "execution_count": 0,
      "outputs": []
    },
    {
      "cell_type": "code",
      "metadata": {
        "id": "8Xb28rhfOiCj",
        "colab_type": "code",
        "colab": {}
      },
      "source": [
        "# training settings\n",
        "use_cuda = torch.cuda.is_available()\n",
        "device = torch.device(\"cuda\" if use_cuda else \"cpu\")\n",
        "\n",
        "# torch.manual_seed(123)"
      ],
      "execution_count": 0,
      "outputs": []
    },
    {
      "cell_type": "markdown",
      "metadata": {
        "id": "V37zLBJDLZIx",
        "colab_type": "text"
      },
      "source": [
        "## Network\n",
        "\n",
        "Below the network described in *Section 4.1* in the paper is created to replicate the results of *Figure 1*."
      ]
    },
    {
      "cell_type": "code",
      "metadata": {
        "id": "xudFbjpy2I_d",
        "colab_type": "code",
        "colab": {}
      },
      "source": [
        "class SimpleNet(nn.Module):\n",
        "  def __init__(self, withBN=False):\n",
        "    super(SimpleNet, self).__init__()\n",
        "\n",
        "    self.withBN = withBN\n",
        "\n",
        "    self.fc1 = nn.Linear(28*28, 100)\n",
        "    self.fc2 = nn.Linear(100, 100)\n",
        "    self.fc3 = nn.Linear(100, 100)\n",
        "    self.fc4 = nn.Linear(100, 10)\n",
        "    \n",
        "    if withBN:\n",
        "      self.bn1 = nn.BatchNorm1d(100)\n",
        "      self.bn2 = nn.BatchNorm1d(100)\n",
        "      self.bn3 = nn.BatchNorm1d(100)\n",
        "\n",
        "  def forward(self, x):\n",
        "    x = torch.flatten(x, start_dim=1)\n",
        "\n",
        "    # first hidden\n",
        "    x = self.fc1(x)\n",
        "    if self.withBN:\n",
        "      x = self.bn1(x)\n",
        "    x = torch.sigmoid(x)\n",
        "\n",
        "    # second hidden\n",
        "    x = self.fc2(x)\n",
        "    if self.withBN:\n",
        "      x = self.bn2(x)\n",
        "    x = torch.sigmoid(x)\n",
        "\n",
        "    # third hidden\n",
        "    x = self.fc3(x)\n",
        "    if self.withBN:\n",
        "      x = self.bn3(x)\n",
        "    # for getting values for figure 1b and 1c\n",
        "    self.inspect = x\n",
        "    x = torch.sigmoid(x)\n",
        "    \n",
        "    # output\n",
        "    output = self.fc4(x)\n",
        "    return output"
      ],
      "execution_count": 0,
      "outputs": []
    },
    {
      "cell_type": "markdown",
      "metadata": {
        "id": "XGpV908XPwZQ",
        "colab_type": "text"
      },
      "source": [
        "## Evaluation"
      ]
    },
    {
      "cell_type": "code",
      "metadata": {
        "id": "Vq7O8seY1RkF",
        "colab_type": "code",
        "colab": {}
      },
      "source": [
        "def init_weight(m):\n",
        "  if isinstance(m, nn.Linear):\n",
        "    w = torch.randn(m.weight.data.size(), device=device)\n",
        "    w.requires_grad = True\n",
        "    m.weight.data = w\n",
        "\n",
        "\n",
        "def test(model, device, test_loader):\n",
        "  model.eval()\n",
        "  test_loss = 0\n",
        "  correct = 0\n",
        "  # 15th, 50th and 85th percentiles\n",
        "  percentiles = [0, 0, 0]\n",
        "  with torch.no_grad():\n",
        "    for data, target in test_loader:\n",
        "      data, target = data.to(device), target.to(device)\n",
        "      output = model(data)\n",
        "      # sum up batch loss\n",
        "      test_loss += F.cross_entropy(output, target, reduction='sum').item()\n",
        "      # get the index of the max log-probability\n",
        "      pred = output.argmax(dim=1, keepdim=True)\n",
        "      correct += pred.eq(target.view_as(pred)).sum().item()\n",
        "\n",
        "      # percentiles of the input of last sigmoid\n",
        "      percentile15, _ = torch.kthvalue(model.inspect, 15, dim=1)\n",
        "      percentiles[0] += torch.mean(percentile15).item()\n",
        "      percentile50, _ = torch.kthvalue(model.inspect, 50, dim=1)\n",
        "      percentiles[1] += torch.mean(percentile50).item()\n",
        "      percentile85, _ = torch.kthvalue(model.inspect, 85, dim=1)\n",
        "      percentiles[2] += torch.mean(percentile85).item()\n",
        "\n",
        "  test_loss /= len(test_loader.dataset)\n",
        "  test_acc = correct / len(test_loader.dataset)\n",
        "  percentiles = [p/len(test_loader.dataset) for p in percentiles]\n",
        "\n",
        "  # print('\\nTest set: Average loss: {:.4f}, Accuracy: {}/{} ({:.0f}%)\\n'.format(\n",
        "  #   test_loss, correct, len(test_loader.dataset),\n",
        "  #   100. * test_acc))\n",
        "  return test_loss, test_acc, percentiles\n",
        "\n",
        "\n",
        "def train(model, device, train_loader, test_loader, num_epoch=1):\n",
        "  optimizer = optim.SGD(model.parameters(), lr=0.02, momentum=0.9)\n",
        "  model.train()\n",
        "  history = {'test_loss': [], 'test_acc': [], 'percentiles': []}\n",
        "  for epoch in range(num_epoch):\n",
        "    for batch_idx, (data, target) in enumerate(train_loader):\n",
        "      data, target = data.to(device), target.to(device)\n",
        "      optimizer.zero_grad()\n",
        "      output = model(data)\n",
        "      loss = F.cross_entropy(output, target)\n",
        "      loss.backward()\n",
        "      optimizer.step()\n",
        "      if batch_idx % 100 == 0:\n",
        "        print('Train Epoch: {} [{}/{} ({:.0f}%)]\\tLoss: {:.6f}'.format(\n",
        "          epoch + 1, batch_idx * len(data), len(train_loader.dataset),\n",
        "          100. * batch_idx / len(train_loader), loss.item()))\n",
        "\n",
        "        test_loss, test_acc, percentiles = test(model, device, test_loader)\n",
        "        history['test_acc'].append(test_acc)\n",
        "        history['percentiles'].append(percentiles)\n",
        "  return history\n",
        "\n",
        "\n",
        "def plot_percentiles(percentiles, title):\n",
        "  percentile15 = []\n",
        "  percentile50 = []\n",
        "  percentile85 = []\n",
        "  for p in percentiles:\n",
        "    percentile15.append(p[0])\n",
        "    percentile50.append(p[1])\n",
        "    percentile85.append(p[2])\n",
        "  x = list(range(len(percentile15)))\n",
        "  plt.figure()\n",
        "  plt.title(title)\n",
        "  plt.plot(x, percentile15)\n",
        "  plt.plot(x, percentile50)\n",
        "  plt.plot(x, percentile85)\n",
        "  plt.show()"
      ],
      "execution_count": 0,
      "outputs": []
    },
    {
      "cell_type": "markdown",
      "metadata": {
        "id": "JxAfPHV5LOGZ",
        "colab_type": "text"
      },
      "source": [
        "## Load Data\n",
        "In *Section 4.1*, the authors evaluate the network on MNIST dataset. Thus, MNIST dataset is prepared below."
      ]
    },
    {
      "cell_type": "code",
      "metadata": {
        "id": "pSxaZ9Oy59kW",
        "colab_type": "code",
        "colab": {}
      },
      "source": [
        "kwargs = {'num_workers': 1, 'pin_memory': True} if use_cuda else {}\n",
        "train_loader = torch.utils.data.DataLoader(\n",
        "  datasets.MNIST('../data', train=True, download=True, transform=T.Compose([\n",
        "                    T.ToTensor(),\n",
        "                    T.Normalize((0.1307,), (0.3081,)),\n",
        "                  ])),\n",
        "  batch_size=60, shuffle=True, **kwargs)\n",
        "test_loader = torch.utils.data.DataLoader(\n",
        "  datasets.MNIST('../data', train=False, transform=T.Compose([\n",
        "                    T.ToTensor(),\n",
        "                    T.Normalize((0.1307,), (0.3081,)),\n",
        "                  ])),\n",
        "  batch_size=60, shuffle=True, **kwargs)"
      ],
      "execution_count": 0,
      "outputs": []
    },
    {
      "cell_type": "markdown",
      "metadata": {
        "id": "15X_05b1QDsK",
        "colab_type": "text"
      },
      "source": [
        "## Train Models\n",
        "\n",
        "PyTorch uses Kaiming initialization[2] by default but in the paper, the authors say that weights are initialized to small random Gaussian values. To do that a function is implemented in *Section Functions* above and it is applied to the models.\n",
        "\n",
        "[2] He, Kaiming, et al. \"Delving deep into rectifiers: Surpassing human-level performance on imagenet classification.\" Proceedings of the IEEE international conference on computer vision. 2015."
      ]
    },
    {
      "cell_type": "code",
      "metadata": {
        "id": "c39Rp9XLQC3x",
        "colab_type": "code",
        "colab": {
          "base_uri": "https://localhost:8080/",
          "height": 1000
        },
        "outputId": "8d406a0c-4eb2-47fa-e17d-9ca15142968c"
      },
      "source": [
        "num_epoch = 5\n",
        "\n",
        "print('Training network without BN:')\n",
        "model = SimpleNet().to(device)\n",
        "model.apply(init_weight)\n",
        "summary(model, (1, 28, 28))\n",
        "history = train(model, device, train_loader, test_loader, num_epoch=num_epoch)\n",
        "print('\\nTraining network with BN:')\n",
        "model_bn = SimpleNet(withBN=True).to(device)\n",
        "model_bn.apply(init_weight)\n",
        "summary(model_bn, (1, 28, 28))\n",
        "history_bn = train(model_bn, device, train_loader, test_loader, num_epoch=num_epoch)"
      ],
      "execution_count": 6,
      "outputs": [
        {
          "output_type": "stream",
          "text": [
            "Training network without BN:\n",
            "----------------------------------------------------------------\n",
            "        Layer (type)               Output Shape         Param #\n",
            "================================================================\n",
            "            Linear-1                  [-1, 100]          78,500\n",
            "            Linear-2                  [-1, 100]          10,100\n",
            "            Linear-3                  [-1, 100]          10,100\n",
            "            Linear-4                   [-1, 10]           1,010\n",
            "================================================================\n",
            "Total params: 99,710\n",
            "Trainable params: 99,710\n",
            "Non-trainable params: 0\n",
            "----------------------------------------------------------------\n",
            "Input size (MB): 0.00\n",
            "Forward/backward pass size (MB): 0.00\n",
            "Params size (MB): 0.38\n",
            "Estimated Total Size (MB): 0.39\n",
            "----------------------------------------------------------------\n",
            "Train Epoch: 1 [0/60000 (0%)]\tLoss: 8.375727\n",
            "Train Epoch: 1 [6000/60000 (10%)]\tLoss: 1.909937\n",
            "Train Epoch: 1 [12000/60000 (20%)]\tLoss: 1.278815\n",
            "Train Epoch: 1 [18000/60000 (30%)]\tLoss: 1.336196\n",
            "Train Epoch: 1 [24000/60000 (40%)]\tLoss: 1.057657\n",
            "Train Epoch: 1 [30000/60000 (50%)]\tLoss: 0.792372\n",
            "Train Epoch: 1 [36000/60000 (60%)]\tLoss: 0.897629\n",
            "Train Epoch: 1 [42000/60000 (70%)]\tLoss: 0.665904\n",
            "Train Epoch: 1 [48000/60000 (80%)]\tLoss: 0.915150\n",
            "Train Epoch: 1 [54000/60000 (90%)]\tLoss: 0.784103\n",
            "Train Epoch: 2 [0/60000 (0%)]\tLoss: 0.767152\n",
            "Train Epoch: 2 [6000/60000 (10%)]\tLoss: 0.775967\n",
            "Train Epoch: 2 [12000/60000 (20%)]\tLoss: 0.604656\n",
            "Train Epoch: 2 [18000/60000 (30%)]\tLoss: 0.378875\n",
            "Train Epoch: 2 [24000/60000 (40%)]\tLoss: 0.606840\n",
            "Train Epoch: 2 [30000/60000 (50%)]\tLoss: 0.669718\n",
            "Train Epoch: 2 [36000/60000 (60%)]\tLoss: 0.453610\n",
            "Train Epoch: 2 [42000/60000 (70%)]\tLoss: 0.655680\n",
            "Train Epoch: 2 [48000/60000 (80%)]\tLoss: 0.466505\n",
            "Train Epoch: 2 [54000/60000 (90%)]\tLoss: 0.364029\n",
            "Train Epoch: 3 [0/60000 (0%)]\tLoss: 0.642597\n",
            "Train Epoch: 3 [6000/60000 (10%)]\tLoss: 0.398880\n",
            "Train Epoch: 3 [12000/60000 (20%)]\tLoss: 0.468270\n",
            "Train Epoch: 3 [18000/60000 (30%)]\tLoss: 0.400189\n",
            "Train Epoch: 3 [24000/60000 (40%)]\tLoss: 0.424999\n",
            "Train Epoch: 3 [30000/60000 (50%)]\tLoss: 0.287613\n",
            "Train Epoch: 3 [36000/60000 (60%)]\tLoss: 0.455013\n",
            "Train Epoch: 3 [42000/60000 (70%)]\tLoss: 0.661011\n",
            "Train Epoch: 3 [48000/60000 (80%)]\tLoss: 0.404737\n",
            "Train Epoch: 3 [54000/60000 (90%)]\tLoss: 0.227712\n",
            "Train Epoch: 4 [0/60000 (0%)]\tLoss: 0.526970\n",
            "Train Epoch: 4 [6000/60000 (10%)]\tLoss: 0.280230\n",
            "Train Epoch: 4 [12000/60000 (20%)]\tLoss: 0.171406\n",
            "Train Epoch: 4 [18000/60000 (30%)]\tLoss: 0.295382\n",
            "Train Epoch: 4 [24000/60000 (40%)]\tLoss: 0.476414\n",
            "Train Epoch: 4 [30000/60000 (50%)]\tLoss: 0.501343\n",
            "Train Epoch: 4 [36000/60000 (60%)]\tLoss: 0.439786\n",
            "Train Epoch: 4 [42000/60000 (70%)]\tLoss: 0.139552\n",
            "Train Epoch: 4 [48000/60000 (80%)]\tLoss: 0.451135\n",
            "Train Epoch: 4 [54000/60000 (90%)]\tLoss: 0.204208\n",
            "Train Epoch: 5 [0/60000 (0%)]\tLoss: 0.430585\n",
            "Train Epoch: 5 [6000/60000 (10%)]\tLoss: 0.320200\n",
            "Train Epoch: 5 [12000/60000 (20%)]\tLoss: 0.150831\n",
            "Train Epoch: 5 [18000/60000 (30%)]\tLoss: 0.320422\n",
            "Train Epoch: 5 [24000/60000 (40%)]\tLoss: 0.385911\n",
            "Train Epoch: 5 [30000/60000 (50%)]\tLoss: 0.403787\n",
            "Train Epoch: 5 [36000/60000 (60%)]\tLoss: 0.454091\n",
            "Train Epoch: 5 [42000/60000 (70%)]\tLoss: 0.368188\n",
            "Train Epoch: 5 [48000/60000 (80%)]\tLoss: 0.410949\n",
            "Train Epoch: 5 [54000/60000 (90%)]\tLoss: 0.418368\n",
            "\n",
            "Training network with BN:\n",
            "----------------------------------------------------------------\n",
            "        Layer (type)               Output Shape         Param #\n",
            "================================================================\n",
            "            Linear-1                  [-1, 100]          78,500\n",
            "       BatchNorm1d-2                  [-1, 100]             200\n",
            "            Linear-3                  [-1, 100]          10,100\n",
            "       BatchNorm1d-4                  [-1, 100]             200\n",
            "            Linear-5                  [-1, 100]          10,100\n",
            "       BatchNorm1d-6                  [-1, 100]             200\n",
            "            Linear-7                   [-1, 10]           1,010\n",
            "================================================================\n",
            "Total params: 100,310\n",
            "Trainable params: 100,310\n",
            "Non-trainable params: 0\n",
            "----------------------------------------------------------------\n",
            "Input size (MB): 0.00\n",
            "Forward/backward pass size (MB): 0.00\n",
            "Params size (MB): 0.38\n",
            "Estimated Total Size (MB): 0.39\n",
            "----------------------------------------------------------------\n",
            "Train Epoch: 1 [0/60000 (0%)]\tLoss: 7.175181\n",
            "Train Epoch: 1 [6000/60000 (10%)]\tLoss: 1.525682\n",
            "Train Epoch: 1 [12000/60000 (20%)]\tLoss: 0.947075\n",
            "Train Epoch: 1 [18000/60000 (30%)]\tLoss: 0.731788\n",
            "Train Epoch: 1 [24000/60000 (40%)]\tLoss: 0.793015\n",
            "Train Epoch: 1 [30000/60000 (50%)]\tLoss: 0.670577\n",
            "Train Epoch: 1 [36000/60000 (60%)]\tLoss: 0.806374\n",
            "Train Epoch: 1 [42000/60000 (70%)]\tLoss: 0.525779\n",
            "Train Epoch: 1 [48000/60000 (80%)]\tLoss: 0.566270\n",
            "Train Epoch: 1 [54000/60000 (90%)]\tLoss: 0.628318\n",
            "Train Epoch: 2 [0/60000 (0%)]\tLoss: 0.298497\n",
            "Train Epoch: 2 [6000/60000 (10%)]\tLoss: 0.470065\n",
            "Train Epoch: 2 [12000/60000 (20%)]\tLoss: 0.438057\n",
            "Train Epoch: 2 [18000/60000 (30%)]\tLoss: 0.488840\n",
            "Train Epoch: 2 [24000/60000 (40%)]\tLoss: 0.273977\n",
            "Train Epoch: 2 [30000/60000 (50%)]\tLoss: 0.344845\n",
            "Train Epoch: 2 [36000/60000 (60%)]\tLoss: 0.220789\n",
            "Train Epoch: 2 [42000/60000 (70%)]\tLoss: 0.216256\n",
            "Train Epoch: 2 [48000/60000 (80%)]\tLoss: 0.527412\n",
            "Train Epoch: 2 [54000/60000 (90%)]\tLoss: 0.207548\n",
            "Train Epoch: 3 [0/60000 (0%)]\tLoss: 0.332072\n",
            "Train Epoch: 3 [6000/60000 (10%)]\tLoss: 0.319267\n",
            "Train Epoch: 3 [12000/60000 (20%)]\tLoss: 0.303658\n",
            "Train Epoch: 3 [18000/60000 (30%)]\tLoss: 0.151176\n",
            "Train Epoch: 3 [24000/60000 (40%)]\tLoss: 0.198825\n",
            "Train Epoch: 3 [30000/60000 (50%)]\tLoss: 0.396874\n",
            "Train Epoch: 3 [36000/60000 (60%)]\tLoss: 0.195346\n",
            "Train Epoch: 3 [42000/60000 (70%)]\tLoss: 0.411307\n",
            "Train Epoch: 3 [48000/60000 (80%)]\tLoss: 0.388142\n",
            "Train Epoch: 3 [54000/60000 (90%)]\tLoss: 0.196423\n",
            "Train Epoch: 4 [0/60000 (0%)]\tLoss: 0.389270\n",
            "Train Epoch: 4 [6000/60000 (10%)]\tLoss: 0.164382\n",
            "Train Epoch: 4 [12000/60000 (20%)]\tLoss: 0.205591\n",
            "Train Epoch: 4 [18000/60000 (30%)]\tLoss: 0.272471\n",
            "Train Epoch: 4 [24000/60000 (40%)]\tLoss: 0.271160\n",
            "Train Epoch: 4 [30000/60000 (50%)]\tLoss: 0.215478\n",
            "Train Epoch: 4 [36000/60000 (60%)]\tLoss: 0.190810\n",
            "Train Epoch: 4 [42000/60000 (70%)]\tLoss: 0.183642\n",
            "Train Epoch: 4 [48000/60000 (80%)]\tLoss: 0.368070\n",
            "Train Epoch: 4 [54000/60000 (90%)]\tLoss: 0.412028\n",
            "Train Epoch: 5 [0/60000 (0%)]\tLoss: 0.290509\n",
            "Train Epoch: 5 [6000/60000 (10%)]\tLoss: 0.259777\n",
            "Train Epoch: 5 [12000/60000 (20%)]\tLoss: 0.154838\n",
            "Train Epoch: 5 [18000/60000 (30%)]\tLoss: 0.335825\n",
            "Train Epoch: 5 [24000/60000 (40%)]\tLoss: 0.384899\n",
            "Train Epoch: 5 [30000/60000 (50%)]\tLoss: 0.138131\n",
            "Train Epoch: 5 [36000/60000 (60%)]\tLoss: 0.180914\n",
            "Train Epoch: 5 [42000/60000 (70%)]\tLoss: 0.163903\n",
            "Train Epoch: 5 [48000/60000 (80%)]\tLoss: 0.533043\n",
            "Train Epoch: 5 [54000/60000 (90%)]\tLoss: 0.321930\n"
          ],
          "name": "stdout"
        }
      ]
    },
    {
      "cell_type": "markdown",
      "metadata": {
        "id": "r4B3NQ4ZLGsn",
        "colab_type": "text"
      },
      "source": [
        "## Plot Charts\n",
        "Below the same charts in *Figure 1* in the paper are plotted for comparison."
      ]
    },
    {
      "cell_type": "code",
      "metadata": {
        "id": "KbsrEbZjLDvB",
        "colab_type": "code",
        "colab": {
          "base_uri": "https://localhost:8080/",
          "height": 809
        },
        "outputId": "c2ea3ded-edfe-48d5-d56a-66d6b3cf7d43"
      },
      "source": [
        "test_acc = history['test_acc']\n",
        "test_acc_bn = history_bn['test_acc']\n",
        "x = list(range(len(test_acc)))\n",
        "plt.figure()\n",
        "plt.title('Test Accuracy')\n",
        "plt.plot(x, test_acc, label='Without BN')\n",
        "plt.plot(x, test_acc_bn, label='With BN')\n",
        "plt.legend()\n",
        "plt.show()\n",
        "\n",
        "plot_percentiles(history['percentiles'], 'Without BN')\n",
        "plot_percentiles(history_bn['percentiles'], 'With BN')"
      ],
      "execution_count": 7,
      "outputs": [
        {
          "output_type": "display_data",
          "data": {
            "image/png": "[encoded data removed]",
            "text/plain": [
              "<Figure size 432x288 with 1 Axes>"
            ]
          },
          "metadata": {
            "tags": []
          }
        },
        {
          "output_type": "display_data",
          "data": {
            "image/png": "[encoded data removed]",
            "text/plain": [
              "<Figure size 432x288 with 1 Axes>"
            ]
          },
          "metadata": {
            "tags": []
          }
        },
        {
          "output_type": "display_data",
          "data": {
            "image/png": "[encoded data removed]",
            "text/plain": [
              "<Figure size 432x288 with 1 Axes>"
            ]
          },
          "metadata": {
            "tags": []
          }
        }
      ]
    },
    {
      "cell_type": "markdown",
      "metadata": {
        "id": "D7CLz281YJYG",
        "colab_type": "text"
      },
      "source": [
        "## Conclusion\n",
        "In short, the results given in *Figure 1* in *Section 4.1* is replicable."
      ]
    }
  ]
}
